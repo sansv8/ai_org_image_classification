{
  "nbformat": 4,
  "nbformat_minor": 0,
  "metadata": {
    "colab": {
      "name": "Last Copy of PantsClassifier.ipynb",
      "provenance": [],
      "collapsed_sections": [],
      "include_colab_link": true
    },
    "kernelspec": {
      "name": "python3",
      "display_name": "Python 3"
    },
    "language_info": {
      "name": "python"
    }
  },
  "cells": [
    {
      "cell_type": "markdown",
      "metadata": {
        "id": "view-in-github",
        "colab_type": "text"
      },
      "source": [
        "<a href=\"https://colab.research.google.com/github/sansv8/ai_org_image_classification/blob/main/Last_Copy_of_PantsClassifier.ipynb\" target=\"_parent\"><img src=\"https://colab.research.google.com/assets/colab-badge.svg\" alt=\"Open In Colab\"/></a>"
      ]
    },
    {
      "cell_type": "code",
      "metadata": {
        "colab": {
          "base_uri": "https://localhost:8080/"
        },
        "id": "teUCfp2IDUz_",
        "outputId": "e479c86c-4f2d-4c27-bb8f-658a84596ab9"
      },
      "source": [
        "# Upload files\n",
        "!git clone 'https://github.com/cbennudr/ai_org_image_classification.git'"
      ],
      "execution_count": 1,
      "outputs": [
        {
          "output_type": "stream",
          "name": "stdout",
          "text": [
            "Cloning into 'ai_org_image_classification'...\n",
            "remote: Enumerating objects: 1000, done.\u001b[K\n",
            "remote: Counting objects: 100% (499/499), done.\u001b[K\n",
            "remote: Compressing objects: 100% (472/472), done.\u001b[K\n",
            "remote: Total 1000 (delta 49), reused 468 (delta 26), pack-reused 501\u001b[K\n",
            "Receiving objects: 100% (1000/1000), 24.89 MiB | 32.84 MiB/s, done.\n",
            "Resolving deltas: 100% (71/71), done.\n"
          ]
        }
      ]
    },
    {
      "cell_type": "code",
      "metadata": {
        "id": "0M_sKVE6Am1F"
      },
      "source": [
        "# Imports and function definitions\n",
        "from tensorflow import keras\n",
        "import pandas as pd\n",
        "import numpy as np\n",
        "import random\n",
        "from PIL import Image, ImageOps\n",
        "from imblearn.over_sampling import RandomOverSampler\n",
        "from sklearn.model_selection import StratifiedKFold\n",
        "from sklearn.preprocessing import LabelEncoder\n",
        "from sklearn.metrics import accuracy_score, confusion_matrix\n",
        "import matplotlib.pyplot as plt\n",
        "import pathlib\n",
        "import glob\n",
        "\n",
        "def resize(image, dimensions):\n",
        "    old_width, old_height = image.size\n",
        "\n",
        "    # Original is too tall\n",
        "    if old_width / old_height < dimensions[0] / dimensions[1]:\n",
        "        # Crop image\n",
        "        new_height = old_width * dimensions[1] / dimensions[0]\n",
        "        image = image.crop((0, (old_height - new_height) / 2,\n",
        "                            old_width, (old_height + new_height) / 2))\n",
        "\n",
        "        # Resize image\n",
        "        return image.resize(dimensions)\n",
        "\n",
        "    else:  # Original is too wide\n",
        "        # Crop image\n",
        "        new_width = old_height * dimensions[0] / dimensions[1]\n",
        "        image = image.crop(((old_width - new_width) / 2, 0,\n",
        "                            (old_width + new_width) / 2, old_height))\n",
        "\n",
        "        # Resize image\n",
        "        return image.resize(dimensions)"
      ],
      "execution_count": 2,
      "outputs": []
    },
    {
      "cell_type": "code",
      "metadata": {
        "id": "a0HHh7qjG751"
      },
      "source": [
        "# Invariants (Don't change on your own)\n",
        "images_loc = \"ai_org_image_classification/pants_classification/pants_images\"\n",
        "labels_name = \"ai_org_image_classification/pants_classification/labels.csv\"\n",
        "label_column = \"Pants/Shorts\"\n",
        "k_folds = 2"
      ],
      "execution_count": 3,
      "outputs": []
    },
    {
      "cell_type": "code",
      "metadata": {
        "id": "mU441aRqGNXQ"
      },
      "source": [
        "# THINGS TO CHANGE\n",
        "\n",
        "# Parameters (Change to improve model)\n",
        "epochs = 15\n",
        "pixel_range = (0, 1)\n",
        "image_dim = (400, 400)  # (width, height)\n",
        "stretch_images = True  # Stretch or crop images to fit aspect ratio\n",
        "loss_fn = keras.losses.SparseCategoricalCrossentropy(from_logits=True)\n",
        "bi_loss_fn = keras.losses.BinaryCrossentropy(from_logits=True);\n",
        "bi_accurary = keras.metrics.BinaryAccuracy(threshold=0.0)\n",
        "optimizer = \"adam\"\n",
        "oversample = True  # Duplicate images from smaller categories\n",
        "\n",
        "# Model (Change to improve model)\n",
        "# Different layers can be researched at https://www.tensorflow.org/api_docs/python/tf/keras/layers\n",
        "# Default model contains four layers, excluding the inputs:\n",
        "# Flatten - Convert image array to a 1-D vector\n",
        "#   input_shape determines the inputs of the network\n",
        "# Dense with 128 nodes - Standard neural network layer\n",
        "# Dropout - While training, turns off inputs of previous layer\n",
        "#   20% of the time to prevent overfitting\n",
        "# Dense with 2 nodes - Output layer with no activation function applied\n",
        "\n",
        "model = keras.models.Sequential()\n",
        "model.add(keras.layers.Conv1D(64, (3), input_shape=(image_dim), activation='relu'))\n",
        "model.add(keras.layers.Dropout(.25))\n",
        "model.add(keras.layers.Conv1D(32, (3), activation='relu'))\n",
        "model.add(keras.layers.Dropout(.25))\n",
        "model.add(keras.layers.Conv1D(16, (3), activation='relu'))\n",
        "model.add(keras.layers.MaxPooling1D())\n",
        "model.add(keras.layers.Dropout(.25))\n",
        "model.add(keras.layers.Flatten())\n",
        "model.add(keras.layers.Dense(128, activation='relu'))\n",
        "model.add(keras.layers.Dropout(.25))\n",
        "model.add(keras.layers.Dense(2, activation='softmax')) \n",
        "  # Final layer outputs = number of labels\n",
        "\n"
      ],
      "execution_count": 4,
      "outputs": []
    },
    {
      "cell_type": "code",
      "metadata": {
        "id": "9_SUouFBS6db"
      },
      "source": [
        "# RUN AFTER CHANGING PARAMETERS\n",
        "# No need to rerun if only changing model\n",
        "\n",
        "# Import labels\n",
        "labels = pd.read_csv(labels_name)\n",
        "\n",
        "# Import images\n",
        "images = []\n",
        "\n",
        "for name in labels[\"Data Number\"]:\n",
        "    images.append(Image.open(images_loc + \"/\" + str(name) + \".jpg\"))\n",
        "\n",
        "    # Resize image\n",
        "    if stretch_images:\n",
        "        images[-1] = images[-1].resize(image_dim)\n",
        "\n",
        "    else:\n",
        "        images[-1] = resize(images[-1], image_dim)\n",
        "\n",
        "# Specify particular label category\n",
        "labels = labels[label_column]\n",
        "\n",
        "# Convert labels to numbers for training\n",
        "encoder = LabelEncoder()\n",
        "encoder.fit(labels)\n",
        "labels = encoder.transform(labels)\n",
        "\n",
        "if oversample:\n",
        "    # Calculate largest class size\n",
        "    # len([0 for label in labels if label == i]) returns amount of data in class i\n",
        "    max_class_size = max([len([0 for label in labels if label == i]) for i in range(len(encoder.classes_))])\n",
        "    \n",
        "    # Add random elements of smaller classes until they are of the same size\n",
        "    data_to_add = []\n",
        "    \n",
        "    for i in range(len(encoder.classes_)):\n",
        "        number_to_add = max_class_size - len([0 for label in labels if label == i])\n",
        "        possible_choices = [(images[j], labels[j]) for j in range(len(labels)) if labels[j] == i]\n",
        "\n",
        "        for _ in range(number_to_add):\n",
        "            data_to_add.append(random.choice(possible_choices))\n",
        "\n",
        "    images += [data[0] for data in data_to_add]\n",
        "    labels = np.append(labels, [data[1] for data in data_to_add])\n",
        "\n",
        "# Convert to grayscale\n",
        "gray_images = []\n",
        "\n",
        "for i in range(len(images)):\n",
        "    # Convert grayscale and numpy array\n",
        "    gray_images.append(np.array(ImageOps.grayscale(images[i])))\n",
        "    images[i] = np.array(images[i])\n",
        "\n",
        "# Scale pixel brightnesses\n",
        "for i in range(len(images)):\n",
        "    images[i] = images[i] * (pixel_range[1] - pixel_range[0]) / 255.0\n",
        "    images[i] += pixel_range[0]\n",
        "    gray_images[i] = gray_images[i] * (pixel_range[1] - pixel_range[0]) / 255.0\n",
        "    gray_images[i] += pixel_range[0]\n"
      ],
      "execution_count": 5,
      "outputs": []
    },
    {
      "cell_type": "code",
      "metadata": {
        "id": "CeVcw2QUE5fG"
      },
      "source": [
        "# Create a graph to check the loss of the function\n",
        "def plot_loss(history):\n",
        "  plt.plot(history['loss'], label='loss')\n",
        "  plt.plot(history['val_loss'], label='val_loss')\n",
        "  plt.ylim(0, 1)\n",
        "  plt.title('Epoch vs Loss')\n",
        "  plt.xlabel('Epoch')\n",
        "  plt.ylabel('Loss')\n",
        "  plt.legend()\n",
        "  plt.grid(True)\n",
        "\n",
        "history = {\n",
        "    \"loss\" : [],\n",
        "    \"val_loss\" : [],\n",
        "}"
      ],
      "execution_count": 6,
      "outputs": []
    },
    {
      "cell_type": "code",
      "metadata": {
        "id": "j2SEcT-F60QJ",
        "colab": {
          "base_uri": "https://localhost:8080/",
          "height": 1000
        },
        "outputId": "00ae88e1-357a-4d2f-b003-a9bd241b7fa8"
      },
      "source": [
        "# RUN AFTER CHANGING PARAMETERS OR MODEL\n",
        "\n",
        "# Create training and test sets\n",
        "# Data is divided into k_folds groups\n",
        "# For 0 <= i < k_folds, group i is the test set, while everything else is the training set\n",
        "# Each element of fold_indices is of the form (train_indices, test_indices)\n",
        "# Training image set number i is then np.array([gray_images[index] for index in fold_indices[i][0]])\n",
        "# Training label set number i is then np.array([labels[index] for index in fold_indices[i][0]])\n",
        "# Test image set number i is then np.array([gray_images[index] for index in fold_indices[i][1]])\n",
        "# Test label set number i is then np.array([labels[index] for index in fold_indices[i][1]])\n",
        "fold_splitter = StratifiedKFold(n_splits=k_folds, shuffle=True)\n",
        "fold_indices = []\n",
        "\n",
        "for i in fold_splitter.split(gray_images, labels):\n",
        "    fold_indices.append(i)\n",
        "\n",
        "for i in range(len(fold_indices)):\n",
        "    np.random.shuffle(fold_indices[i][0])\n",
        "    np.random.shuffle(fold_indices[i][1])\n",
        "    \n",
        "# Define the training regimine the model will go through\n",
        "model.compile(optimizer=optimizer, loss=loss_fn, metrics=[\"accuracy\"])\n",
        "\n",
        "# Train the model\n",
        "responses = []\n",
        "answer_key = []\n",
        "\n",
        "for i in range(k_folds):\n",
        "    print(\"Fold {}:\".format(i + 1))\n",
        "    X_train = np.array([gray_images[index] for index in fold_indices[i][0]])\n",
        "    y_train = np.array([labels[index] for index in fold_indices[i][0]])\n",
        "    X_test = np.array([gray_images[index] for index in fold_indices[i][1]])\n",
        "    y_test = np.array([labels[index] for index in fold_indices[i][1]])\n",
        "\n",
        "    his = model.fit(X_train, y_train, epochs=epochs, validation_split=0.2)\n",
        "    print(\"\\n\", end=\"\")\n",
        "\n",
        "    history[\"loss\"].extend(his.history[\"loss\"])\n",
        "    history[\"val_loss\"].extend(his.history[\"val_loss\"])\n",
        "    responses = np.append(responses, model.predict(X_test).argmax(axis=1))\n",
        "    answer_key = np.append(answer_key, y_test)\n",
        "\n",
        "# Evaluate the model\n",
        "print(\"Accuracy: {}\".format(accuracy_score(answer_key, responses)))\n",
        "\n",
        "# Calculate confusion matrix\n",
        "class_names = encoder.classes_\n",
        "conf_mat = pd.DataFrame(np.transpose(confusion_matrix(\n",
        "    answer_key, responses, labels=encoder.transform(class_names))), index=class_names, columns=class_names)\n",
        "print(\"Confusion Matrix (Predicted x Actual):\")\n",
        "print(conf_mat, \"\\n\")\n",
        "\n",
        "plot_loss(history)\n"
      ],
      "execution_count": 10,
      "outputs": [
        {
          "output_type": "stream",
          "name": "stdout",
          "text": [
            "Fold 1:\n",
            "Epoch 1/15\n"
          ]
        },
        {
          "output_type": "stream",
          "name": "stderr",
          "text": [
            "/usr/local/lib/python3.7/dist-packages/tensorflow/python/util/dispatch.py:1096: UserWarning: \"`sparse_categorical_crossentropy` received `from_logits=True`, but the `output` argument was produced by a sigmoid or softmax activation and thus does not represent logits. Was this intended?\"\n",
            "  return dispatch_target(*args, **kwargs)\n"
          ]
        },
        {
          "output_type": "stream",
          "name": "stdout",
          "text": [
            "14/14 [==============================] - 3s 197ms/step - loss: 0.1901 - accuracy: 0.9374 - val_loss: 0.1584 - val_accuracy: 0.9464\n",
            "Epoch 2/15\n",
            "14/14 [==============================] - 3s 184ms/step - loss: 0.1760 - accuracy: 0.9418 - val_loss: 0.2060 - val_accuracy: 0.9107\n",
            "Epoch 3/15\n",
            "14/14 [==============================] - 3s 180ms/step - loss: 0.1530 - accuracy: 0.9396 - val_loss: 0.1649 - val_accuracy: 0.9375\n",
            "Epoch 4/15\n",
            "14/14 [==============================] - 3s 181ms/step - loss: 0.1192 - accuracy: 0.9508 - val_loss: 0.1737 - val_accuracy: 0.9286\n",
            "Epoch 5/15\n",
            "14/14 [==============================] - 3s 182ms/step - loss: 0.0765 - accuracy: 0.9776 - val_loss: 0.1577 - val_accuracy: 0.9286\n",
            "Epoch 6/15\n",
            "14/14 [==============================] - 3s 181ms/step - loss: 0.0690 - accuracy: 0.9732 - val_loss: 0.2189 - val_accuracy: 0.9286\n",
            "Epoch 7/15\n",
            "14/14 [==============================] - 3s 181ms/step - loss: 0.0823 - accuracy: 0.9709 - val_loss: 0.1428 - val_accuracy: 0.9464\n",
            "Epoch 8/15\n",
            "14/14 [==============================] - 2s 180ms/step - loss: 0.0537 - accuracy: 0.9821 - val_loss: 0.1654 - val_accuracy: 0.9286\n",
            "Epoch 9/15\n",
            "14/14 [==============================] - 3s 182ms/step - loss: 0.0585 - accuracy: 0.9799 - val_loss: 0.1561 - val_accuracy: 0.9375\n",
            "Epoch 10/15\n",
            "14/14 [==============================] - 3s 182ms/step - loss: 0.0760 - accuracy: 0.9664 - val_loss: 0.1977 - val_accuracy: 0.9464\n",
            "Epoch 11/15\n",
            "14/14 [==============================] - 3s 181ms/step - loss: 0.0952 - accuracy: 0.9664 - val_loss: 0.1633 - val_accuracy: 0.9375\n",
            "Epoch 12/15\n",
            "14/14 [==============================] - 3s 181ms/step - loss: 0.1062 - accuracy: 0.9687 - val_loss: 0.1776 - val_accuracy: 0.9643\n",
            "Epoch 13/15\n",
            "14/14 [==============================] - 3s 184ms/step - loss: 0.0865 - accuracy: 0.9597 - val_loss: 0.2442 - val_accuracy: 0.9196\n",
            "Epoch 14/15\n",
            "14/14 [==============================] - 2s 180ms/step - loss: 0.0563 - accuracy: 0.9776 - val_loss: 0.1686 - val_accuracy: 0.9375\n",
            "Epoch 15/15\n",
            "14/14 [==============================] - 2s 179ms/step - loss: 0.0575 - accuracy: 0.9776 - val_loss: 0.1239 - val_accuracy: 0.9554\n",
            "\n",
            "Fold 2:\n",
            "Epoch 1/15\n",
            "14/14 [==============================] - 3s 186ms/step - loss: 0.1741 - accuracy: 0.9396 - val_loss: 0.1773 - val_accuracy: 0.9286\n",
            "Epoch 2/15\n",
            "14/14 [==============================] - 3s 181ms/step - loss: 0.1613 - accuracy: 0.9463 - val_loss: 0.1618 - val_accuracy: 0.9286\n",
            "Epoch 3/15\n",
            "14/14 [==============================] - 3s 181ms/step - loss: 0.1198 - accuracy: 0.9709 - val_loss: 0.1300 - val_accuracy: 0.9464\n",
            "Epoch 4/15\n",
            "14/14 [==============================] - 3s 182ms/step - loss: 0.1006 - accuracy: 0.9620 - val_loss: 0.1274 - val_accuracy: 0.9554\n",
            "Epoch 5/15\n",
            "14/14 [==============================] - 2s 180ms/step - loss: 0.0674 - accuracy: 0.9776 - val_loss: 0.1647 - val_accuracy: 0.9286\n",
            "Epoch 6/15\n",
            "14/14 [==============================] - 2s 180ms/step - loss: 0.0680 - accuracy: 0.9732 - val_loss: 0.1562 - val_accuracy: 0.9196\n",
            "Epoch 7/15\n",
            "14/14 [==============================] - 3s 184ms/step - loss: 0.0756 - accuracy: 0.9664 - val_loss: 0.1540 - val_accuracy: 0.9464\n",
            "Epoch 8/15\n",
            "14/14 [==============================] - 3s 182ms/step - loss: 0.0709 - accuracy: 0.9821 - val_loss: 0.2509 - val_accuracy: 0.9107\n",
            "Epoch 9/15\n",
            "14/14 [==============================] - 3s 179ms/step - loss: 0.0826 - accuracy: 0.9709 - val_loss: 0.1548 - val_accuracy: 0.9554\n",
            "Epoch 10/15\n",
            "14/14 [==============================] - 2s 178ms/step - loss: 0.0720 - accuracy: 0.9709 - val_loss: 0.1284 - val_accuracy: 0.9286\n",
            "Epoch 11/15\n",
            "14/14 [==============================] - 3s 181ms/step - loss: 0.0512 - accuracy: 0.9866 - val_loss: 0.1510 - val_accuracy: 0.9464\n",
            "Epoch 12/15\n",
            "14/14 [==============================] - 3s 182ms/step - loss: 0.0436 - accuracy: 0.9866 - val_loss: 0.1273 - val_accuracy: 0.9464\n",
            "Epoch 13/15\n",
            "14/14 [==============================] - 3s 182ms/step - loss: 0.0349 - accuracy: 0.9933 - val_loss: 0.1315 - val_accuracy: 0.9643\n",
            "Epoch 14/15\n",
            "14/14 [==============================] - 3s 181ms/step - loss: 0.0432 - accuracy: 0.9888 - val_loss: 0.1647 - val_accuracy: 0.9464\n",
            "Epoch 15/15\n",
            "14/14 [==============================] - 3s 181ms/step - loss: 0.0451 - accuracy: 0.9888 - val_loss: 0.2055 - val_accuracy: 0.9375\n",
            "\n",
            "Accuracy: 0.9525939177101967\n",
            "Confusion Matrix (Predicted x Actual):\n",
            "        pants  shorts\n",
            "pants     526      20\n",
            "shorts     33     539 \n",
            "\n"
          ]
        },
        {
          "output_type": "display_data",
          "data": {
            "image/png": "[encoded data removed]",
            "text/plain": [
              "<Figure size 432x288 with 1 Axes>"
            ]
          },
          "metadata": {
            "needs_background": "light"
          }
        }
      ]
    },
    {
      "cell_type": "code",
      "source": [
        "!mkdir -p saved_model\n",
        "model.save('saved_model/my_model')"
      ],
      "metadata": {
        "colab": {
          "base_uri": "https://localhost:8080/"
        },
        "id": "R2WKboebdEEw",
        "outputId": "926e6a86-fc37-4e53-adb7-7ae56c0bf25e"
      },
      "execution_count": 11,
      "outputs": [
        {
          "output_type": "stream",
          "name": "stdout",
          "text": [
            "INFO:tensorflow:Assets written to: saved_model/my_model/assets\n"
          ]
        }
      ]
    },
    {
      "cell_type": "code",
      "source": [
        "image = \"ai_org_image_classification/Color-Identification/TestPants.jpg\"\n",
        "image = Image.open(image)\n",
        "pants = []\n",
        "image = image.resize(image_dim)\n",
        "image = np.array(ImageOps.grayscale(image))\n",
        "image = image * (pixel_range[1] - pixel_range[0]) / 255.0\n",
        "image += pixel_range[0]\n",
        "pants.append(image)\n",
        "pants = np.array(pants)\n",
        "pants.shape\n",
        "\n",
        "\n"
      ],
      "metadata": {
        "id": "rfXBVMcTdJd5",
        "colab": {
          "base_uri": "https://localhost:8080/"
        },
        "outputId": "ae21121a-0084-4c7f-fb35-03283bf7058f"
      },
      "execution_count": 12,
      "outputs": [
        {
          "output_type": "execute_result",
          "data": {
            "text/plain": [
              "(1, 400, 400)"
            ]
          },
          "metadata": {},
          "execution_count": 12
        }
      ]
    },
    {
      "cell_type": "code",
      "source": [
        "new_model = keras.models.load_model('saved_model/my_model')\n",
        "new_model.summary()\n"
      ],
      "metadata": {
        "colab": {
          "base_uri": "https://localhost:8080/"
        },
        "id": "68wxPUQGXPZ4",
        "outputId": "9d7c3e71-4488-4b4a-9e9d-42e5edc83d69"
      },
      "execution_count": 13,
      "outputs": [
        {
          "output_type": "stream",
          "name": "stdout",
          "text": [
            "Model: \"sequential\"\n",
            "_________________________________________________________________\n",
            " Layer (type)                Output Shape              Param #   \n",
            "=================================================================\n",
            " conv1d (Conv1D)             (None, 398, 64)           76864     \n",
            "                                                                 \n",
            " dropout (Dropout)           (None, 398, 64)           0         \n",
            "                                                                 \n",
            " conv1d_1 (Conv1D)           (None, 396, 32)           6176      \n",
            "                                                                 \n",
            " dropout_1 (Dropout)         (None, 396, 32)           0         \n",
            "                                                                 \n",
            " conv1d_2 (Conv1D)           (None, 394, 16)           1552      \n",
            "                                                                 \n",
            " max_pooling1d (MaxPooling1D  (None, 197, 16)          0         \n",
            " )                                                               \n",
            "                                                                 \n",
            " dropout_2 (Dropout)         (None, 197, 16)           0         \n",
            "                                                                 \n",
            " flatten (Flatten)           (None, 3152)              0         \n",
            "                                                                 \n",
            " dense (Dense)               (None, 128)               403584    \n",
            "                                                                 \n",
            " dropout_3 (Dropout)         (None, 128)               0         \n",
            "                                                                 \n",
            " dense_1 (Dense)             (None, 2)                 258       \n",
            "                                                                 \n",
            "=================================================================\n",
            "Total params: 488,434\n",
            "Trainable params: 488,434\n",
            "Non-trainable params: 0\n",
            "_________________________________________________________________\n"
          ]
        }
      ]
    },
    {
      "cell_type": "code",
      "source": [
        "from google.colab import drive\n",
        "drive.mount('/content/drive')"
      ],
      "metadata": {
        "colab": {
          "base_uri": "https://localhost:8080/"
        },
        "id": "dxoVOL-YjlGh",
        "outputId": "a9b589c7-af3f-49dc-8cd7-3fd192e837e6"
      },
      "execution_count": 17,
      "outputs": [
        {
          "output_type": "stream",
          "name": "stdout",
          "text": [
            "Drive already mounted at /content/drive; to attempt to forcibly remount, call drive.mount(\"/content/drive\", force_remount=True).\n"
          ]
        }
      ]
    },
    {
      "cell_type": "code",
      "source": [
        "new_model.predict(pants)"
      ],
      "metadata": {
        "colab": {
          "base_uri": "https://localhost:8080/"
        },
        "id": "L4dyeX_Wa1GT",
        "outputId": "4e487627-587b-4946-cb4b-eef84aab9ca5"
      },
      "execution_count": 14,
      "outputs": [
        {
          "output_type": "execute_result",
          "data": {
            "text/plain": [
              "array([[1.0000000e+00, 2.1163298e-15]], dtype=float32)"
            ]
          },
          "metadata": {},
          "execution_count": 14
        }
      ]
    }
  ]
}